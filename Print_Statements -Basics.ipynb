{
 "cells": [
  {
   "cell_type": "markdown",
   "id": "2885e61f",
   "metadata": {},
   "source": [
    "## Print Statements"
   ]
  },
  {
   "cell_type": "code",
   "execution_count": 1,
   "id": "8761cd8d",
   "metadata": {},
   "outputs": [
    {
     "name": "stdout",
     "output_type": "stream",
     "text": [
      "Welcome to python Class\n"
     ]
    }
   ],
   "source": [
    "print(\"Welcome to python class\")"
   ]
  },
  {
   "cell_type": "code",
   "execution_count": 2,
   "id": "4d75c0c8",
   "metadata": {},
   "outputs": [
    {
     "name": "stdout",
     "output_type": "stream",
     "text": [
      "30 60\n"
     ]
    }
   ],
   "source": [
    "a=10\n",
    "b=20\n",
    "a=30\n",
    "b=60\n",
    "print(a,b)"
   ]
  },
  {
   "cell_type": "code",
   "execution_count": 3,
   "id": "b20779b0",
   "metadata": {},
   "outputs": [
    {
     "name": "stdout",
     "output_type": "stream",
     "text": [
      "10\n",
      "20\n",
      "30\n",
      "60\n"
     ]
    }
   ],
   "source": [
    "a=10\n",
    "print(a)\n",
    "b=20\n",
    "print(b)\n",
    "a=30\n",
    "print(a)\n",
    "b=60\n",
    "print(b)"
   ]
  },
  {
   "cell_type": "code",
   "execution_count": 6,
   "id": "0d744b14",
   "metadata": {},
   "outputs": [
    {
     "name": "stdout",
     "output_type": "stream",
     "text": [
      "20 30 40\n"
     ]
    }
   ],
   "source": [
    "a=20\n",
    "b=30\n",
    "c=40\n",
    "print(a,b,c)"
   ]
  },
  {
   "cell_type": "code",
   "execution_count": 7,
   "id": "c5410e6b",
   "metadata": {},
   "outputs": [
    {
     "name": "stdout",
     "output_type": "stream",
     "text": [
      "20:30:40\n"
     ]
    }
   ],
   "source": [
    "#print as 20:30:40\n",
    "print(a,b,c,sep=\":\")"
   ]
  },
  {
   "cell_type": "code",
   "execution_count": 10,
   "id": "dc34c6b3",
   "metadata": {},
   "outputs": [
    {
     "name": "stdout",
     "output_type": "stream",
     "text": [
      "20 30\n",
      "40\n"
     ]
    }
   ],
   "source": [
    "print(a,end=\" \")\n",
    "print(b)\n",
    "print(c)"
   ]
  },
  {
   "cell_type": "code",
   "execution_count": 11,
   "id": "4d55389f",
   "metadata": {},
   "outputs": [
    {
     "name": "stdout",
     "output_type": "stream",
     "text": [
      "20,30,40#"
     ]
    }
   ],
   "source": [
    "print(a,b,c,sep=\",\",end=\"#\")"
   ]
  },
  {
   "cell_type": "code",
   "execution_count": 12,
   "id": "1a15e987",
   "metadata": {},
   "outputs": [],
   "source": [
    "a=10\n",
    "b=10.5\n",
    "c='Reshma'"
   ]
  },
  {
   "cell_type": "code",
   "execution_count": 13,
   "id": "3e446481",
   "metadata": {},
   "outputs": [
    {
     "name": "stdout",
     "output_type": "stream",
     "text": [
      "the value of a = 10\n"
     ]
    }
   ],
   "source": [
    "print(\"the value of a = %d\"%(a))"
   ]
  },
  {
   "cell_type": "code",
   "execution_count": 15,
   "id": "2715223b",
   "metadata": {},
   "outputs": [
    {
     "name": "stdout",
     "output_type": "stream",
     "text": [
      "The value of 10.500000\n"
     ]
    }
   ],
   "source": [
    "print(\"The value of %f\"%(b))"
   ]
  },
  {
   "cell_type": "code",
   "execution_count": 17,
   "id": "7a29a3c9",
   "metadata": {},
   "outputs": [
    {
     "name": "stdout",
     "output_type": "stream",
     "text": [
      "The value of c = 'Reshma'\n"
     ]
    }
   ],
   "source": [
    "#raw data\n",
    "print(\"The value of c = %r\"%(c))"
   ]
  },
  {
   "cell_type": "code",
   "execution_count": 19,
   "id": "a58f064e",
   "metadata": {},
   "outputs": [],
   "source": [
    "#sum of 2 numbers"
   ]
  },
  {
   "cell_type": "code",
   "execution_count": 20,
   "id": "0506b403",
   "metadata": {},
   "outputs": [
    {
     "name": "stdout",
     "output_type": "stream",
     "text": [
      "10 + 10 = 20\n"
     ]
    }
   ],
   "source": [
    "print(\"%d + %d = %d\"%(a,b,a+b))"
   ]
  },
  {
   "cell_type": "code",
   "execution_count": null,
   "id": "bbdf8047",
   "metadata": {},
   "outputs": [],
   "source": [
    "# %n1.n2f\n",
    "#n1->mini no.of characters\n",
    "#n0.of values after point"
   ]
  },
  {
   "cell_type": "code",
   "execution_count": 21,
   "id": "cb70c332",
   "metadata": {},
   "outputs": [],
   "source": [
    "a=3.14567"
   ]
  },
  {
   "cell_type": "code",
   "execution_count": 22,
   "id": "a199a4c2",
   "metadata": {},
   "outputs": [
    {
     "name": "stdout",
     "output_type": "stream",
     "text": [
      "3.145670\n"
     ]
    }
   ],
   "source": [
    "print(\"%f\"%(a))"
   ]
  },
  {
   "cell_type": "code",
   "execution_count": 24,
   "id": "d1e294c9",
   "metadata": {},
   "outputs": [
    {
     "name": "stdout",
     "output_type": "stream",
     "text": [
      "3\n"
     ]
    }
   ],
   "source": [
    "print(\"%0.0f\"%(a))"
   ]
  },
  {
   "cell_type": "code",
   "execution_count": 25,
   "id": "e8a349b5",
   "metadata": {},
   "outputs": [
    {
     "name": "stdout",
     "output_type": "stream",
     "text": [
      "3.1\n"
     ]
    }
   ],
   "source": [
    "print(\"%0.1f\"%(a))"
   ]
  },
  {
   "cell_type": "code",
   "execution_count": 26,
   "id": "9f425764",
   "metadata": {},
   "outputs": [
    {
     "name": "stdout",
     "output_type": "stream",
     "text": [
      "3.146\n"
     ]
    }
   ],
   "source": [
    "print(\"%1.3f\"%(a))"
   ]
  },
  {
   "cell_type": "code",
   "execution_count": 27,
   "id": "092ae24f",
   "metadata": {},
   "outputs": [
    {
     "name": "stdout",
     "output_type": "stream",
     "text": [
      " 3.146\n"
     ]
    }
   ],
   "source": [
    "print(\"%6.3f\"%(a))"
   ]
  },
  {
   "cell_type": "code",
   "execution_count": 32,
   "id": "c9643c4f",
   "metadata": {},
   "outputs": [],
   "source": [
    "a=10\n",
    "b=20\n",
    "c=30\n"
   ]
  },
  {
   "cell_type": "code",
   "execution_count": 33,
   "id": "86a397b1",
   "metadata": {},
   "outputs": [
    {
     "name": "stdout",
     "output_type": "stream",
     "text": [
      "a=10,b=20,c=30\n"
     ]
    }
   ],
   "source": [
    "print(\"a={},b={},c={}\".format(a,b,c))"
   ]
  },
  {
   "cell_type": "code",
   "execution_count": 34,
   "id": "1d3b93dd",
   "metadata": {},
   "outputs": [
    {
     "name": "stdout",
     "output_type": "stream",
     "text": [
      "10+20=30\n"
     ]
    }
   ],
   "source": [
    "print(\"{}+{}={}\".format(a,b,a+b))"
   ]
  },
  {
   "cell_type": "code",
   "execution_count": 36,
   "id": "a664db77",
   "metadata": {},
   "outputs": [
    {
     "name": "stdout",
     "output_type": "stream",
     "text": [
      "a=30,b=20,c=30\n"
     ]
    }
   ],
   "source": [
    "print(\"a={a},b={b},c={c}\".format(a=c,b=b,c=c))"
   ]
  },
  {
   "cell_type": "code",
   "execution_count": 62,
   "id": "6d8492ed",
   "metadata": {},
   "outputs": [
    {
     "name": "stdout",
     "output_type": "stream",
     "text": [
      "years old she is 10\n"
     ]
    }
   ],
   "source": [
    "print(\"{2} {0} {1}\".format(\"she is\",10,\"years old\"))"
   ]
  },
  {
   "cell_type": "markdown",
   "id": "1b817572",
   "metadata": {},
   "source": [
    "## String"
   ]
  },
  {
   "cell_type": "code",
   "execution_count": 4,
   "id": "0b0bba19",
   "metadata": {},
   "outputs": [
    {
     "name": "stdout",
     "output_type": "stream",
     "text": [
      "This is a  Book\n"
     ]
    }
   ],
   "source": [
    "thing = 'Book'\n",
    "print(\"This is a \",thing)"
   ]
  },
  {
   "cell_type": "code",
   "execution_count": 5,
   "id": "799711e2",
   "metadata": {},
   "outputs": [
    {
     "name": "stdout",
     "output_type": "stream",
     "text": [
      "reshma\n",
      "sowjanya\n"
     ]
    }
   ],
   "source": [
    "a=\"reshma\"\n",
    "b=\"sowjanya\"\n",
    "print(a,)\n",
    "print(a,b,sep=\"\\n\")"
   ]
  },
  {
   "cell_type": "code",
   "execution_count": 38,
   "id": "bbc6c855",
   "metadata": {},
   "outputs": [
    {
     "name": "stdout",
     "output_type": "stream",
     "text": [
      "Reshmanawaz\n"
     ]
    }
   ],
   "source": [
    "a=\"Reshma\"\n",
    "b=\"nawaz\"\n",
    "c=a+b\n",
    "print(c)"
   ]
  },
  {
   "cell_type": "code",
   "execution_count": 39,
   "id": "7310dac7",
   "metadata": {},
   "outputs": [
    {
     "name": "stdout",
     "output_type": "stream",
     "text": [
      "Reshma nawaz\n"
     ]
    }
   ],
   "source": [
    "print(a+\" \"+b)"
   ]
  },
  {
   "cell_type": "code",
   "execution_count": 40,
   "id": "c227467f",
   "metadata": {},
   "outputs": [
    {
     "name": "stdout",
     "output_type": "stream",
     "text": [
      "ReshmaReshmaReshmaReshmaReshma\n"
     ]
    }
   ],
   "source": [
    "print(a*5)"
   ]
  },
  {
   "cell_type": "code",
   "execution_count": 41,
   "id": "ea6075c3",
   "metadata": {},
   "outputs": [
    {
     "ename": "TypeError",
     "evalue": "unsupported operand type(s) for +: 'int' and 'str'",
     "output_type": "error",
     "traceback": [
      "\u001b[1;31m---------------------------------------------------------------------------\u001b[0m",
      "\u001b[1;31mTypeError\u001b[0m                                 Traceback (most recent call last)",
      "Input \u001b[1;32mIn [41]\u001b[0m, in \u001b[0;36m<cell line: 1>\u001b[1;34m()\u001b[0m\n\u001b[1;32m----> 1\u001b[0m \u001b[38;5;28mprint\u001b[39m(\u001b[38;5;241;43m3\u001b[39;49m\u001b[38;5;241;43m+\u001b[39;49m\u001b[43ma\u001b[49m)\n",
      "\u001b[1;31mTypeError\u001b[0m: unsupported operand type(s) for +: 'int' and 'str'"
     ]
    }
   ],
   "source": [
    "print(3+a)"
   ]
  },
  {
   "cell_type": "code",
   "execution_count": 42,
   "id": "0389a2e9",
   "metadata": {},
   "outputs": [
    {
     "name": "stdout",
     "output_type": "stream",
     "text": [
      "3Reshma\n"
     ]
    }
   ],
   "source": [
    "print(str(3)+a)"
   ]
  },
  {
   "cell_type": "code",
   "execution_count": 102,
   "id": "b6a4c3de",
   "metadata": {},
   "outputs": [],
   "source": [
    "s=\"sai\\\n",
    "   ram\\\n",
    "   ravi\\\n",
    "\""
   ]
  },
  {
   "cell_type": "code",
   "execution_count": 103,
   "id": "d8376020",
   "metadata": {},
   "outputs": [
    {
     "data": {
      "text/plain": [
       "'sai   ram   ravi'"
      ]
     },
     "execution_count": 103,
     "metadata": {},
     "output_type": "execute_result"
    }
   ],
   "source": [
    "s"
   ]
  },
  {
   "cell_type": "code",
   "execution_count": 49,
   "id": "8e304102",
   "metadata": {},
   "outputs": [
    {
     "name": "stdout",
     "output_type": "stream",
     "text": [
      "\n",
      "\n"
     ]
    }
   ],
   "source": [
    "print('\\n')"
   ]
  },
  {
   "cell_type": "code",
   "execution_count": 54,
   "id": "a748b2da",
   "metadata": {},
   "outputs": [
    {
     "name": "stdout",
     "output_type": "stream",
     "text": [
      "reshma\n",
      "Sowji\n"
     ]
    }
   ],
   "source": [
    "print(\"reshma\"\"\\n\"\"Sowji\")"
   ]
  },
  {
   "cell_type": "code",
   "execution_count": 56,
   "id": "c605d52a",
   "metadata": {},
   "outputs": [
    {
     "name": "stdout",
     "output_type": "stream",
     "text": [
      "Sowji is  topper in the class\n"
     ]
    }
   ],
   "source": [
    "s = \"Sowji\"\n",
    "print ('%s is  topper in the class' %(s))"
   ]
  },
  {
   "cell_type": "code",
   "execution_count": 55,
   "id": "ffdcc552",
   "metadata": {},
   "outputs": [
    {
     "name": "stdout",
     "output_type": "stream",
     "text": [
      "Reshma is a good girl\n"
     ]
    }
   ],
   "source": [
    "print ('Reshma is a good {p}'.format(p='girl'))"
   ]
  },
  {
   "cell_type": "code",
   "execution_count": 63,
   "id": "be279b57",
   "metadata": {},
   "outputs": [
    {
     "name": "stdout",
     "output_type": "stream",
     "text": [
      "Reshma2002\n",
      "Reshma2002\n",
      "reshma2002\n",
      "RESHMA2002\n",
      "False\n",
      "False\n",
      "Reshma2002\n",
      "False\n",
      "True\n",
      "False\n",
      "True\n",
      "1\n",
      "False\n",
      "False\n",
      "5\n",
      "5\n",
      "$Reshma2002$\n",
      "False\n"
     ]
    }
   ],
   "source": [
    "#String methods\n",
    "s = 'Reshma2002'\n",
    "print(s)\n",
    "print(s.capitalize())\n",
    "print(s.lower())\n",
    "print(s.upper())\n",
    "print(s.islower())\n",
    "print(s.isupper())\n",
    "print(s.title())\n",
    "print(s.isdigit())\n",
    "print(s.isalnum())\n",
    "print(s.isalpha())\n",
    "print('s' in s)\n",
    "print(s.count('a'))\n",
    "print(s.endswith('a'))\n",
    "print(s.startswith('s'))\n",
    "print(s.index('a'))\n",
    "print(s.find('a'))\n",
    "print(s.center(12,'$'))\n",
    "print(s.isspace())"
   ]
  },
  {
   "cell_type": "code",
   "execution_count": 64,
   "id": "332828ad",
   "metadata": {},
   "outputs": [
    {
     "name": "stdout",
     "output_type": "stream",
     "text": [
      "['Reshma', 'Nawaz']\n"
     ]
    }
   ],
   "source": [
    "string = 'Reshma Nawaz'\n",
    "print(string.split())"
   ]
  },
  {
   "cell_type": "code",
   "execution_count": 66,
   "id": "112fe2db",
   "metadata": {},
   "outputs": [
    {
     "name": "stdout",
     "output_type": "stream",
     "text": [
      "['Re', 'sh', 'ma Na', 'wa', 'z']\n"
     ]
    }
   ],
   "source": [
    "string = 'Re#sh#ma Na#wa#z'\n",
    "print(string.split('#'))"
   ]
  },
  {
   "cell_type": "code",
   "execution_count": 76,
   "id": "9989782a",
   "metadata": {},
   "outputs": [
    {
     "name": "stdout",
     "output_type": "stream",
     "text": [
      "My name is    sairam   and my age is 10\n"
     ]
    }
   ],
   "source": [
    "a=\"    sairam   \"\n",
    "print(\"My name is\" +a+\"and my age is 10\")"
   ]
  },
  {
   "cell_type": "code",
   "execution_count": 74,
   "id": "6b4cce65",
   "metadata": {},
   "outputs": [
    {
     "name": "stdout",
     "output_type": "stream",
     "text": [
      "sairam\n"
     ]
    }
   ],
   "source": [
    "print(a.strip())"
   ]
  },
  {
   "cell_type": "code",
   "execution_count": 73,
   "id": "b3b8d5cf",
   "metadata": {},
   "outputs": [
    {
     "name": "stdout",
     "output_type": "stream",
     "text": [
      "My name issairam   \n"
     ]
    }
   ],
   "source": [
    "print(\"My name is\"+a.lstrip())"
   ]
  },
  {
   "cell_type": "code",
   "execution_count": 71,
   "id": "60b57ef4",
   "metadata": {},
   "outputs": [
    {
     "name": "stdout",
     "output_type": "stream",
     "text": [
      "    sairamis a good human\n"
     ]
    }
   ],
   "source": [
    "print(a.rstrip()+\"is a good human\")"
   ]
  },
  {
   "cell_type": "markdown",
   "id": "0efa6170",
   "metadata": {},
   "source": [
    "## DataTypes"
   ]
  },
  {
   "cell_type": "code",
   "execution_count": 82,
   "id": "ec0b1a3c",
   "metadata": {},
   "outputs": [],
   "source": [
    "a=10\n",
    "e=10.23\n",
    "b=True\n",
    "c=\"Reshma\"\n",
    "d=6+10j\n"
   ]
  },
  {
   "cell_type": "code",
   "execution_count": 83,
   "id": "866fdd27",
   "metadata": {},
   "outputs": [
    {
     "name": "stdout",
     "output_type": "stream",
     "text": [
      "<class 'int'>\n",
      "<class 'float'>\n",
      "<class 'bool'>\n",
      "<class 'str'>\n",
      "<class 'complex'>\n"
     ]
    }
   ],
   "source": [
    "print(type(a),type(e),type(b),type(c),type(d),sep=\"\\n\")"
   ]
  },
  {
   "cell_type": "code",
   "execution_count": 87,
   "id": "32b1a7aa",
   "metadata": {},
   "outputs": [],
   "source": [
    "r=a+e"
   ]
  },
  {
   "cell_type": "code",
   "execution_count": 89,
   "id": "ff97936f",
   "metadata": {},
   "outputs": [
    {
     "name": "stdout",
     "output_type": "stream",
     "text": [
      "20.23\n",
      "<class 'float'>\n"
     ]
    }
   ],
   "source": [
    "print(r,type(r),sep=\"\\n\")  # int+float -->float"
   ]
  },
  {
   "cell_type": "code",
   "execution_count": 90,
   "id": "d76bd7f2",
   "metadata": {},
   "outputs": [],
   "source": [
    "r1=a+b"
   ]
  },
  {
   "cell_type": "code",
   "execution_count": 91,
   "id": "a6e2fdf7",
   "metadata": {},
   "outputs": [
    {
     "name": "stdout",
     "output_type": "stream",
     "text": [
      "11\n",
      "<class 'int'>\n"
     ]
    }
   ],
   "source": [
    "print(r1,type(r1),sep=\"\\n\") #int + bool -->int"
   ]
  },
  {
   "cell_type": "code",
   "execution_count": 92,
   "id": "6b3bb0b7",
   "metadata": {},
   "outputs": [
    {
     "name": "stdout",
     "output_type": "stream",
     "text": [
      "123\n"
     ]
    }
   ],
   "source": [
    "print(123)"
   ]
  },
  {
   "cell_type": "code",
   "execution_count": 95,
   "id": "5c423a16",
   "metadata": {},
   "outputs": [
    {
     "name": "stdout",
     "output_type": "stream",
     "text": [
      "<class 'int'>\n",
      "5\n"
     ]
    }
   ],
   "source": [
    "a=0b101 #binary\n",
    "print(type(a),a,sep=\"\\n\")"
   ]
  },
  {
   "cell_type": "code",
   "execution_count": 96,
   "id": "465c8883",
   "metadata": {},
   "outputs": [
    {
     "name": "stdout",
     "output_type": "stream",
     "text": [
      "51\n"
     ]
    }
   ],
   "source": [
    "print(0o63)"
   ]
  },
  {
   "cell_type": "code",
   "execution_count": 97,
   "id": "3adcee7a",
   "metadata": {},
   "outputs": [
    {
     "name": "stdout",
     "output_type": "stream",
     "text": [
      "2809\n"
     ]
    }
   ],
   "source": [
    "print(0xAF9)"
   ]
  },
  {
   "cell_type": "code",
   "execution_count": 98,
   "id": "15f4a90a",
   "metadata": {},
   "outputs": [
    {
     "name": "stdout",
     "output_type": "stream",
     "text": [
      "0b101\n"
     ]
    }
   ],
   "source": [
    "print(bin(5))"
   ]
  },
  {
   "cell_type": "code",
   "execution_count": 99,
   "id": "ef96324a",
   "metadata": {},
   "outputs": [
    {
     "name": "stdout",
     "output_type": "stream",
     "text": [
      "0xaf9\n"
     ]
    }
   ],
   "source": [
    "print(hex(2809))"
   ]
  },
  {
   "cell_type": "code",
   "execution_count": 101,
   "id": "411a6af6",
   "metadata": {},
   "outputs": [
    {
     "name": "stdout",
     "output_type": "stream",
     "text": [
      "0o63\n"
     ]
    }
   ],
   "source": [
    "print(oct(51))"
   ]
  },
  {
   "cell_type": "code",
   "execution_count": null,
   "id": "349c4b6c",
   "metadata": {},
   "outputs": [],
   "source": []
  }
 ],
 "metadata": {
  "kernelspec": {
   "display_name": "Python 3 (ipykernel)",
   "language": "python",
   "name": "python3"
  },
  "language_info": {
   "codemirror_mode": {
    "name": "ipython",
    "version": 3
   },
   "file_extension": ".py",
   "mimetype": "text/x-python",
   "name": "python",
   "nbconvert_exporter": "python",
   "pygments_lexer": "ipython3",
   "version": "3.9.12"
  }
 },
 "nbformat": 4,
 "nbformat_minor": 5
}
