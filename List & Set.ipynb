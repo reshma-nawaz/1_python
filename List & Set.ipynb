{
 "cells": [
  {
   "cell_type": "markdown",
   "id": "8252a05c",
   "metadata": {},
   "source": [
    "## LIST"
   ]
  },
  {
   "cell_type": "code",
   "execution_count": 1,
   "id": "149859f2",
   "metadata": {},
   "outputs": [],
   "source": [
    "#Used to store collection of heterogenous items\n",
    "#These are mutable\n",
    "#a=[] or a=list()"
   ]
  },
  {
   "cell_type": "markdown",
   "id": "09793b2f",
   "metadata": {},
   "source": [
    "### Create a empty list"
   ]
  },
  {
   "cell_type": "code",
   "execution_count": 3,
   "id": "abefaa4b",
   "metadata": {},
   "outputs": [],
   "source": [
    "a=[]"
   ]
  },
  {
   "cell_type": "code",
   "execution_count": 4,
   "id": "a99463d1",
   "metadata": {},
   "outputs": [
    {
     "name": "stdout",
     "output_type": "stream",
     "text": [
      "<class 'list'>\n"
     ]
    }
   ],
   "source": [
    "print(type(a))"
   ]
  },
  {
   "cell_type": "code",
   "execution_count": 5,
   "id": "b7d41087",
   "metadata": {},
   "outputs": [],
   "source": [
    "b=list()"
   ]
  },
  {
   "cell_type": "code",
   "execution_count": 6,
   "id": "9ccf7871",
   "metadata": {},
   "outputs": [
    {
     "name": "stdout",
     "output_type": "stream",
     "text": [
      "<class 'list'>\n"
     ]
    }
   ],
   "source": [
    "print(type(b))"
   ]
  },
  {
   "cell_type": "code",
   "execution_count": 7,
   "id": "a705d257",
   "metadata": {},
   "outputs": [
    {
     "name": "stdout",
     "output_type": "stream",
     "text": [
      "[10, 20, 30, 40]\n"
     ]
    }
   ],
   "source": [
    "a=[10,20,30,40]\n",
    "print(a)"
   ]
  },
  {
   "cell_type": "code",
   "execution_count": 94,
   "id": "dcf630d0",
   "metadata": {},
   "outputs": [
    {
     "name": "stdout",
     "output_type": "stream",
     "text": [
      "['R', 'e', 's', 'h', 'm', 'a']\n"
     ]
    }
   ],
   "source": [
    "n=\"Reshma\"\n",
    "print(list(n))"
   ]
  },
  {
   "cell_type": "code",
   "execution_count": 8,
   "id": "5099bc14",
   "metadata": {},
   "outputs": [
    {
     "name": "stdout",
     "output_type": "stream",
     "text": [
      "['a', 'b', 'c']\n"
     ]
    }
   ],
   "source": [
    "b=[\"a\",\"b\",\"c\"]\n",
    "print(b)"
   ]
  },
  {
   "cell_type": "code",
   "execution_count": 9,
   "id": "c0b01436",
   "metadata": {},
   "outputs": [
    {
     "name": "stdout",
     "output_type": "stream",
     "text": [
      "[10, 20, 'Reshma', 30, 'Sowji']\n"
     ]
    }
   ],
   "source": [
    "c=[10,20,\"Reshma\",30,\"Sowji\"]\n",
    "print(c)"
   ]
  },
  {
   "cell_type": "markdown",
   "id": "5f47d7ae",
   "metadata": {},
   "source": [
    "### Accessing list elements"
   ]
  },
  {
   "cell_type": "code",
   "execution_count": 10,
   "id": "edb79fe9",
   "metadata": {},
   "outputs": [],
   "source": [
    "c=[10,20,\"Reshma\",30,\"Sowji\"]"
   ]
  },
  {
   "cell_type": "code",
   "execution_count": 11,
   "id": "56c9ef24",
   "metadata": {},
   "outputs": [
    {
     "data": {
      "text/plain": [
       "20"
      ]
     },
     "execution_count": 11,
     "metadata": {},
     "output_type": "execute_result"
    }
   ],
   "source": [
    "c[1]"
   ]
  },
  {
   "cell_type": "code",
   "execution_count": 12,
   "id": "469b0ef0",
   "metadata": {},
   "outputs": [
    {
     "data": {
      "text/plain": [
       "[10, 20, 'Reshma']"
      ]
     },
     "execution_count": 12,
     "metadata": {},
     "output_type": "execute_result"
    }
   ],
   "source": [
    "c[:3]"
   ]
  },
  {
   "cell_type": "code",
   "execution_count": 13,
   "id": "37d4d4b2",
   "metadata": {},
   "outputs": [
    {
     "data": {
      "text/plain": [
       "'Sowji'"
      ]
     },
     "execution_count": 13,
     "metadata": {},
     "output_type": "execute_result"
    }
   ],
   "source": [
    "c[-1]"
   ]
  },
  {
   "cell_type": "code",
   "execution_count": 15,
   "id": "782accda",
   "metadata": {},
   "outputs": [
    {
     "data": {
      "text/plain": [
       "['Reshma', 30, 'Sowji']"
      ]
     },
     "execution_count": 15,
     "metadata": {},
     "output_type": "execute_result"
    }
   ],
   "source": [
    "c[-3:]"
   ]
  },
  {
   "cell_type": "code",
   "execution_count": 16,
   "id": "1c25c520",
   "metadata": {},
   "outputs": [],
   "source": [
    "# List will support 2 basic operators\n",
    "# + -->used for concatination\n",
    "# * --> used for repetition"
   ]
  },
  {
   "cell_type": "code",
   "execution_count": 17,
   "id": "88f2ecfd",
   "metadata": {},
   "outputs": [
    {
     "name": "stdout",
     "output_type": "stream",
     "text": [
      "[10, 20, 30, 40, 50, 60]\n"
     ]
    }
   ],
   "source": [
    "l1=[10,20,30]\n",
    "l2=[40,50,60]\n",
    "print(l1+l2)"
   ]
  },
  {
   "cell_type": "code",
   "execution_count": 18,
   "id": "f0f02be1",
   "metadata": {},
   "outputs": [
    {
     "name": "stdout",
     "output_type": "stream",
     "text": [
      "[40, 50, 60, 10, 20, 30]\n"
     ]
    }
   ],
   "source": [
    "print(l2+l1)"
   ]
  },
  {
   "cell_type": "code",
   "execution_count": 20,
   "id": "1525321a",
   "metadata": {},
   "outputs": [
    {
     "name": "stdout",
     "output_type": "stream",
     "text": [
      "A\n",
      "Vowel\n"
     ]
    }
   ],
   "source": [
    "ch=input()\n",
    "if ch in 'AEIOUaeiou':\n",
    "    print('Vowel')\n",
    "else:\n",
    "    print('consonant')"
   ]
  },
  {
   "cell_type": "markdown",
   "id": "8df0d328",
   "metadata": {},
   "source": [
    "### List operations"
   ]
  },
  {
   "cell_type": "code",
   "execution_count": 21,
   "id": "8801e142",
   "metadata": {},
   "outputs": [],
   "source": [
    "# update an element in list"
   ]
  },
  {
   "cell_type": "code",
   "execution_count": 22,
   "id": "1f9a3aee",
   "metadata": {},
   "outputs": [],
   "source": [
    "l=[10,20,30]"
   ]
  },
  {
   "cell_type": "code",
   "execution_count": 23,
   "id": "389ce59e",
   "metadata": {},
   "outputs": [],
   "source": [
    "l[1]=25"
   ]
  },
  {
   "cell_type": "code",
   "execution_count": 24,
   "id": "9cb9811b",
   "metadata": {},
   "outputs": [
    {
     "data": {
      "text/plain": [
       "[10, 25, 30]"
      ]
     },
     "execution_count": 24,
     "metadata": {},
     "output_type": "execute_result"
    }
   ],
   "source": [
    "l"
   ]
  },
  {
   "cell_type": "code",
   "execution_count": 25,
   "id": "ea783e02",
   "metadata": {},
   "outputs": [],
   "source": [
    "# delete an element in list\n",
    "del l[-1]"
   ]
  },
  {
   "cell_type": "code",
   "execution_count": 26,
   "id": "46b426a1",
   "metadata": {},
   "outputs": [
    {
     "name": "stdout",
     "output_type": "stream",
     "text": [
      "[10, 25]\n"
     ]
    }
   ],
   "source": [
    "print(l)"
   ]
  },
  {
   "cell_type": "code",
   "execution_count": 27,
   "id": "80192c72",
   "metadata": {},
   "outputs": [],
   "source": [
    "# Add a list as member or item of another list"
   ]
  },
  {
   "cell_type": "code",
   "execution_count": 28,
   "id": "7f094985",
   "metadata": {},
   "outputs": [
    {
     "name": "stdout",
     "output_type": "stream",
     "text": [
      "[5428, 'Reshma', 'Ai&DS', [10, 20, 30]]\n"
     ]
    }
   ],
   "source": [
    "a=[5428,\"Reshma\",\"Ai&DS\",[10,20,30]]\n",
    "print(a)"
   ]
  },
  {
   "cell_type": "code",
   "execution_count": 29,
   "id": "f935b4b4",
   "metadata": {},
   "outputs": [
    {
     "name": "stdout",
     "output_type": "stream",
     "text": [
      "30\n"
     ]
    }
   ],
   "source": [
    "#Access 30\n",
    "print(a[3][2])"
   ]
  },
  {
   "cell_type": "code",
   "execution_count": 30,
   "id": "1ebdf2dc",
   "metadata": {},
   "outputs": [
    {
     "name": "stdout",
     "output_type": "stream",
     "text": [
      "e\n"
     ]
    }
   ],
   "source": [
    "#access e in reshma\n",
    "print(a[1][1])"
   ]
  },
  {
   "cell_type": "code",
   "execution_count": 31,
   "id": "f49f011f",
   "metadata": {},
   "outputs": [],
   "source": [
    "#update last 2 ellements in the list\n",
    "l=[10,20,30,40,50]"
   ]
  },
  {
   "cell_type": "code",
   "execution_count": 34,
   "id": "5432f8c9",
   "metadata": {},
   "outputs": [],
   "source": [
    "l[-2:]=[45,55]"
   ]
  },
  {
   "cell_type": "code",
   "execution_count": 35,
   "id": "b2515d28",
   "metadata": {},
   "outputs": [
    {
     "data": {
      "text/plain": [
       "[10, 20, 30, 45, 55]"
      ]
     },
     "execution_count": 35,
     "metadata": {},
     "output_type": "execute_result"
    }
   ],
   "source": [
    "l"
   ]
  },
  {
   "cell_type": "code",
   "execution_count": 36,
   "id": "92ccc4a5",
   "metadata": {},
   "outputs": [
    {
     "data": {
      "text/plain": [
       "160"
      ]
     },
     "execution_count": 36,
     "metadata": {},
     "output_type": "execute_result"
    }
   ],
   "source": [
    "#sum of elements in the list\n",
    "sum(l)"
   ]
  },
  {
   "cell_type": "code",
   "execution_count": 37,
   "id": "8459f1c1",
   "metadata": {},
   "outputs": [
    {
     "data": {
      "text/plain": [
       "45"
      ]
     },
     "execution_count": 37,
     "metadata": {},
     "output_type": "execute_result"
    }
   ],
   "source": [
    "sum(range(1,10))"
   ]
  },
  {
   "cell_type": "code",
   "execution_count": 38,
   "id": "62d6eb9b",
   "metadata": {},
   "outputs": [
    {
     "data": {
      "text/plain": [
       "55"
      ]
     },
     "execution_count": 38,
     "metadata": {},
     "output_type": "execute_result"
    }
   ],
   "source": [
    "max(l)"
   ]
  },
  {
   "cell_type": "code",
   "execution_count": 39,
   "id": "d91ed137",
   "metadata": {},
   "outputs": [
    {
     "data": {
      "text/plain": [
       "10"
      ]
     },
     "execution_count": 39,
     "metadata": {},
     "output_type": "execute_result"
    }
   ],
   "source": [
    "min(l)"
   ]
  },
  {
   "cell_type": "code",
   "execution_count": 40,
   "id": "136f96e9",
   "metadata": {},
   "outputs": [
    {
     "data": {
      "text/plain": [
       "5"
      ]
     },
     "execution_count": 40,
     "metadata": {},
     "output_type": "execute_result"
    }
   ],
   "source": [
    "len(l)"
   ]
  },
  {
   "cell_type": "code",
   "execution_count": 42,
   "id": "ffe8dfe0",
   "metadata": {},
   "outputs": [
    {
     "ename": "ValueError",
     "evalue": "too many values to unpack (expected 2)",
     "output_type": "error",
     "traceback": [
      "\u001b[1;31m---------------------------------------------------------------------------\u001b[0m",
      "\u001b[1;31mValueError\u001b[0m                                Traceback (most recent call last)",
      "Input \u001b[1;32mIn [42]\u001b[0m, in \u001b[0;36m<cell line: 2>\u001b[1;34m()\u001b[0m\n\u001b[0;32m      1\u001b[0m m\u001b[38;5;241m=\u001b[39m[\u001b[38;5;241m67\u001b[39m,\u001b[38;5;241m78\u001b[39m,\u001b[38;5;241m87\u001b[39m,\u001b[38;5;241m56\u001b[39m]\n\u001b[1;32m----> 2\u001b[0m m1,m2\u001b[38;5;241m=\u001b[39mm\n\u001b[0;32m      3\u001b[0m \u001b[38;5;28mprint\u001b[39m(m1,m2)\n",
      "\u001b[1;31mValueError\u001b[0m: too many values to unpack (expected 2)"
     ]
    }
   ],
   "source": [
    "m=[67,78,87,56]\n",
    "m1,m2=m\n",
    "print(m1,m2)"
   ]
  },
  {
   "cell_type": "markdown",
   "id": "7ba8ec27",
   "metadata": {},
   "source": [
    "### Bulit in functions in list"
   ]
  },
  {
   "cell_type": "code",
   "execution_count": 43,
   "id": "0546274c",
   "metadata": {},
   "outputs": [],
   "source": [
    "# append  --> add new element at the end of the list"
   ]
  },
  {
   "cell_type": "code",
   "execution_count": 47,
   "id": "b7e5beb3",
   "metadata": {},
   "outputs": [
    {
     "data": {
      "text/plain": [
       "[1, 2, 3]"
      ]
     },
     "execution_count": 47,
     "metadata": {},
     "output_type": "execute_result"
    }
   ],
   "source": [
    "l=[1,2,3]\n",
    "l"
   ]
  },
  {
   "cell_type": "code",
   "execution_count": 48,
   "id": "353549a3",
   "metadata": {},
   "outputs": [],
   "source": [
    "l.append(4)"
   ]
  },
  {
   "cell_type": "code",
   "execution_count": 49,
   "id": "dcdacd44",
   "metadata": {},
   "outputs": [
    {
     "data": {
      "text/plain": [
       "[1, 2, 3, 4]"
      ]
     },
     "execution_count": 49,
     "metadata": {},
     "output_type": "execute_result"
    }
   ],
   "source": [
    "l"
   ]
  },
  {
   "cell_type": "code",
   "execution_count": 50,
   "id": "7856bb89",
   "metadata": {},
   "outputs": [],
   "source": [
    "# insert -->used to insert a element based on the position\n",
    "# syntax:  listnameinsert(index,ele)"
   ]
  },
  {
   "cell_type": "code",
   "execution_count": 56,
   "id": "c8e49b7b",
   "metadata": {},
   "outputs": [],
   "source": [
    "l1=[11,22,33,55]"
   ]
  },
  {
   "cell_type": "code",
   "execution_count": 57,
   "id": "2d2b3429",
   "metadata": {},
   "outputs": [],
   "source": [
    "l1.insert(3,44)"
   ]
  },
  {
   "cell_type": "code",
   "execution_count": 58,
   "id": "9bcddc6d",
   "metadata": {},
   "outputs": [
    {
     "data": {
      "text/plain": [
       "[11, 22, 33, 44, 55]"
      ]
     },
     "execution_count": 58,
     "metadata": {},
     "output_type": "execute_result"
    }
   ],
   "source": [
    "l1"
   ]
  },
  {
   "cell_type": "code",
   "execution_count": 59,
   "id": "27deb0b9",
   "metadata": {},
   "outputs": [],
   "source": [
    "# remove --> used to remove the element based on value"
   ]
  },
  {
   "cell_type": "code",
   "execution_count": 60,
   "id": "52d54b22",
   "metadata": {},
   "outputs": [
    {
     "data": {
      "text/plain": [
       "[11, 22, 33, 44, 55]"
      ]
     },
     "execution_count": 60,
     "metadata": {},
     "output_type": "execute_result"
    }
   ],
   "source": [
    "l1"
   ]
  },
  {
   "cell_type": "code",
   "execution_count": 61,
   "id": "4e507a29",
   "metadata": {},
   "outputs": [],
   "source": [
    "l1.remove(44)"
   ]
  },
  {
   "cell_type": "code",
   "execution_count": 62,
   "id": "781c4967",
   "metadata": {},
   "outputs": [
    {
     "data": {
      "text/plain": [
       "[11, 22, 33, 55]"
      ]
     },
     "execution_count": 62,
     "metadata": {},
     "output_type": "execute_result"
    }
   ],
   "source": [
    "l1"
   ]
  },
  {
   "cell_type": "code",
   "execution_count": 63,
   "id": "aa66c4c5",
   "metadata": {},
   "outputs": [],
   "source": [
    "# pop()  ->used to delete the last elemnt from the list and the value will be return from the function"
   ]
  },
  {
   "cell_type": "code",
   "execution_count": 64,
   "id": "84a029d5",
   "metadata": {},
   "outputs": [
    {
     "data": {
      "text/plain": [
       "10"
      ]
     },
     "execution_count": 64,
     "metadata": {},
     "output_type": "execute_result"
    }
   ],
   "source": [
    "s=[1,2,3,10]\n",
    "s.pop()"
   ]
  },
  {
   "cell_type": "code",
   "execution_count": 66,
   "id": "edb35d05",
   "metadata": {},
   "outputs": [],
   "source": [
    "# extend()  ->used to extend the list\n",
    "# syntax : listname.extend(value)"
   ]
  },
  {
   "cell_type": "code",
   "execution_count": 67,
   "id": "bb3d72f9",
   "metadata": {},
   "outputs": [],
   "source": [
    "a=[10,20,30]\n",
    "a.extend([40,50,60])"
   ]
  },
  {
   "cell_type": "code",
   "execution_count": 68,
   "id": "9963f5a1",
   "metadata": {},
   "outputs": [
    {
     "data": {
      "text/plain": [
       "[10, 20, 30, 40, 50, 60]"
      ]
     },
     "execution_count": 68,
     "metadata": {},
     "output_type": "execute_result"
    }
   ],
   "source": [
    "a"
   ]
  },
  {
   "cell_type": "code",
   "execution_count": 69,
   "id": "7b5e0cf3",
   "metadata": {},
   "outputs": [],
   "source": [
    "# count() --> used to return the frequency of the value in the given list"
   ]
  },
  {
   "cell_type": "code",
   "execution_count": 70,
   "id": "7e3adb11",
   "metadata": {},
   "outputs": [
    {
     "data": {
      "text/plain": [
       "3"
      ]
     },
     "execution_count": 70,
     "metadata": {},
     "output_type": "execute_result"
    }
   ],
   "source": [
    "r=[1,2,3,1,6,3,1,7]\n",
    "r.count(1)"
   ]
  },
  {
   "cell_type": "code",
   "execution_count": 71,
   "id": "83852f0b",
   "metadata": {},
   "outputs": [],
   "source": [
    "#sort()  ->used to sort the list in ascending order"
   ]
  },
  {
   "cell_type": "code",
   "execution_count": 72,
   "id": "bd2e1807",
   "metadata": {},
   "outputs": [],
   "source": [
    "a=[2,3,1,5,0]\n"
   ]
  },
  {
   "cell_type": "code",
   "execution_count": 73,
   "id": "364fb21c",
   "metadata": {},
   "outputs": [],
   "source": [
    "a.sort()"
   ]
  },
  {
   "cell_type": "code",
   "execution_count": 74,
   "id": "acbaa31e",
   "metadata": {},
   "outputs": [
    {
     "data": {
      "text/plain": [
       "[0, 1, 2, 3, 5]"
      ]
     },
     "execution_count": 74,
     "metadata": {},
     "output_type": "execute_result"
    }
   ],
   "source": [
    "a"
   ]
  },
  {
   "cell_type": "code",
   "execution_count": 75,
   "id": "ae51fecb",
   "metadata": {},
   "outputs": [],
   "source": [
    "a.sort(reverse=True)"
   ]
  },
  {
   "cell_type": "code",
   "execution_count": 76,
   "id": "51edc3d4",
   "metadata": {},
   "outputs": [
    {
     "data": {
      "text/plain": [
       "[5, 3, 2, 1, 0]"
      ]
     },
     "execution_count": 76,
     "metadata": {},
     "output_type": "execute_result"
    }
   ],
   "source": [
    "a"
   ]
  },
  {
   "cell_type": "code",
   "execution_count": 77,
   "id": "5201fce0",
   "metadata": {},
   "outputs": [
    {
     "data": {
      "text/plain": [
       "[0, 1, 2, 3, 5]"
      ]
     },
     "execution_count": 77,
     "metadata": {},
     "output_type": "execute_result"
    }
   ],
   "source": [
    "sorted(a)"
   ]
  },
  {
   "cell_type": "code",
   "execution_count": 78,
   "id": "98b7552a",
   "metadata": {},
   "outputs": [],
   "source": [
    "#copy()"
   ]
  },
  {
   "cell_type": "code",
   "execution_count": 79,
   "id": "0d243ad1",
   "metadata": {},
   "outputs": [],
   "source": [
    "a=[1,2,3]\n",
    "b=a.copy()"
   ]
  },
  {
   "cell_type": "code",
   "execution_count": 80,
   "id": "3526e007",
   "metadata": {},
   "outputs": [
    {
     "data": {
      "text/plain": [
       "[1, 2, 3]"
      ]
     },
     "execution_count": 80,
     "metadata": {},
     "output_type": "execute_result"
    }
   ],
   "source": [
    "b"
   ]
  },
  {
   "cell_type": "code",
   "execution_count": 81,
   "id": "35908217",
   "metadata": {},
   "outputs": [],
   "source": [
    "a.append(10)"
   ]
  },
  {
   "cell_type": "code",
   "execution_count": 82,
   "id": "e45ce501",
   "metadata": {},
   "outputs": [
    {
     "data": {
      "text/plain": [
       "[1, 2, 3]"
      ]
     },
     "execution_count": 82,
     "metadata": {},
     "output_type": "execute_result"
    }
   ],
   "source": [
    "b"
   ]
  },
  {
   "cell_type": "code",
   "execution_count": null,
   "id": "a4a4a730",
   "metadata": {},
   "outputs": [],
   "source": [
    "#see the difference blw copy and a=b"
   ]
  },
  {
   "cell_type": "code",
   "execution_count": 83,
   "id": "a859ba5a",
   "metadata": {},
   "outputs": [],
   "source": [
    "c=[1,2,3]\n",
    "d=c"
   ]
  },
  {
   "cell_type": "code",
   "execution_count": 84,
   "id": "1e77fc13",
   "metadata": {},
   "outputs": [],
   "source": [
    "c.append(10)"
   ]
  },
  {
   "cell_type": "code",
   "execution_count": 85,
   "id": "c0419bdc",
   "metadata": {},
   "outputs": [
    {
     "data": {
      "text/plain": [
       "[1, 2, 3, 10]"
      ]
     },
     "execution_count": 85,
     "metadata": {},
     "output_type": "execute_result"
    }
   ],
   "source": [
    "d"
   ]
  },
  {
   "cell_type": "code",
   "execution_count": 86,
   "id": "c8970699",
   "metadata": {},
   "outputs": [],
   "source": [
    "#index --> it will return the index of the first occured element"
   ]
  },
  {
   "cell_type": "code",
   "execution_count": 87,
   "id": "471ef6a3",
   "metadata": {},
   "outputs": [],
   "source": [
    "a=[1,2,3,4,5,6]"
   ]
  },
  {
   "cell_type": "code",
   "execution_count": 88,
   "id": "62c0833d",
   "metadata": {},
   "outputs": [
    {
     "data": {
      "text/plain": [
       "5"
      ]
     },
     "execution_count": 88,
     "metadata": {},
     "output_type": "execute_result"
    }
   ],
   "source": [
    "a.index(6)"
   ]
  },
  {
   "cell_type": "code",
   "execution_count": 150,
   "id": "e651d067",
   "metadata": {},
   "outputs": [],
   "source": [
    "#enumerate()"
   ]
  },
  {
   "cell_type": "code",
   "execution_count": 151,
   "id": "86f13ee0",
   "metadata": {},
   "outputs": [
    {
     "name": "stdout",
     "output_type": "stream",
     "text": [
      "0 13\n",
      "1 4\n",
      "2 1\n",
      "3 7\n",
      "4 5\n",
      "5 9\n",
      "6 10\n"
     ]
    }
   ],
   "source": [
    "s=[13,4,1,7,5,9,10]\n",
    "for i,value in enumerate(s):\n",
    "    print(i,value)"
   ]
  },
  {
   "cell_type": "code",
   "execution_count": 152,
   "id": "b41a3c25",
   "metadata": {},
   "outputs": [
    {
     "name": "stdout",
     "output_type": "stream",
     "text": [
      "0 3\n",
      "1 4\n",
      "2 1\n",
      "3 7\n"
     ]
    }
   ],
   "source": [
    "e=[(0,3),(1,4),(2,1),(3,7)]\n",
    "for i,value in e:\n",
    "    print(i,value)"
   ]
  },
  {
   "cell_type": "code",
   "execution_count": null,
   "id": "2d5d40e9",
   "metadata": {},
   "outputs": [],
   "source": []
  },
  {
   "cell_type": "markdown",
   "id": "3222fc11",
   "metadata": {},
   "source": [
    "# SET"
   ]
  },
  {
   "cell_type": "code",
   "execution_count": 89,
   "id": "2f47568e",
   "metadata": {},
   "outputs": [],
   "source": [
    "# Collection of elements\n",
    "# Unordered\n",
    "# Unindexed\n",
    "# It will not allow duplicates\n",
    "# mutable\n",
    "# Represent a set = > {}\n",
    "# or a=set()"
   ]
  },
  {
   "cell_type": "markdown",
   "id": "082a41e9",
   "metadata": {},
   "source": [
    "### Create a set with collection of elements"
   ]
  },
  {
   "cell_type": "code",
   "execution_count": 90,
   "id": "7d5c0934",
   "metadata": {},
   "outputs": [],
   "source": [
    "s={1,23,3,4,5,1,22,3}"
   ]
  },
  {
   "cell_type": "code",
   "execution_count": 91,
   "id": "d0046fd2",
   "metadata": {},
   "outputs": [
    {
     "data": {
      "text/plain": [
       "{1, 3, 4, 5, 22, 23}"
      ]
     },
     "execution_count": 91,
     "metadata": {},
     "output_type": "execute_result"
    }
   ],
   "source": [
    "s"
   ]
  },
  {
   "cell_type": "code",
   "execution_count": 93,
   "id": "10709855",
   "metadata": {},
   "outputs": [
    {
     "name": "stdout",
     "output_type": "stream",
     "text": [
      "{'a', 'R', 's', 'm', 'h', 'e'}\n"
     ]
    }
   ],
   "source": [
    "name=\"Reshma\"\n",
    "print(set(name))"
   ]
  },
  {
   "cell_type": "markdown",
   "id": "0eaf13d5",
   "metadata": {},
   "source": [
    "### Type conversions"
   ]
  },
  {
   "cell_type": "code",
   "execution_count": 95,
   "id": "59d1b111",
   "metadata": {},
   "outputs": [],
   "source": [
    "s=set([1,2,3,4]) # => list to set"
   ]
  },
  {
   "cell_type": "code",
   "execution_count": 96,
   "id": "b397de7b",
   "metadata": {},
   "outputs": [
    {
     "data": {
      "text/plain": [
       "{1, 2, 3, 4}"
      ]
     },
     "execution_count": 96,
     "metadata": {},
     "output_type": "execute_result"
    }
   ],
   "source": [
    "s"
   ]
  },
  {
   "cell_type": "code",
   "execution_count": 97,
   "id": "47ef1651",
   "metadata": {},
   "outputs": [],
   "source": [
    "s1=set((1,2,3,4,5))  # => tuple to set"
   ]
  },
  {
   "cell_type": "code",
   "execution_count": 98,
   "id": "05721ff2",
   "metadata": {},
   "outputs": [
    {
     "data": {
      "text/plain": [
       "{1, 2, 3, 4, 5}"
      ]
     },
     "execution_count": 98,
     "metadata": {},
     "output_type": "execute_result"
    }
   ],
   "source": [
    "s1"
   ]
  },
  {
   "cell_type": "markdown",
   "id": "9360c277",
   "metadata": {},
   "source": [
    "### Bssic operations supported in python"
   ]
  },
  {
   "cell_type": "code",
   "execution_count": 100,
   "id": "a26c3a17",
   "metadata": {},
   "outputs": [],
   "source": [
    "# Union(|)\n",
    "# Intersection (&)\n",
    "# Difference (-)\n",
    "# Subset (<,<=)\n",
    "#Superset (>)\n",
    "#Symmetric Difference (^)"
   ]
  },
  {
   "cell_type": "code",
   "execution_count": 101,
   "id": "714c3b13",
   "metadata": {},
   "outputs": [],
   "source": [
    "s1={1,2,3,4,5}\n",
    "s2={4,5,6,7,8}"
   ]
  },
  {
   "cell_type": "code",
   "execution_count": 103,
   "id": "3efdf164",
   "metadata": {},
   "outputs": [
    {
     "data": {
      "text/plain": [
       "{1, 2, 3, 4, 5, 6, 7, 8}"
      ]
     },
     "execution_count": 103,
     "metadata": {},
     "output_type": "execute_result"
    }
   ],
   "source": [
    "s3=s1 | s2\n",
    "s3"
   ]
  },
  {
   "cell_type": "code",
   "execution_count": 104,
   "id": "ff46d9fd",
   "metadata": {},
   "outputs": [
    {
     "data": {
      "text/plain": [
       "{4, 5}"
      ]
     },
     "execution_count": 104,
     "metadata": {},
     "output_type": "execute_result"
    }
   ],
   "source": [
    "s4 = s1 & s2\n",
    "s4"
   ]
  },
  {
   "cell_type": "code",
   "execution_count": 105,
   "id": "bd756bfc",
   "metadata": {},
   "outputs": [
    {
     "data": {
      "text/plain": [
       "{1, 2, 3}"
      ]
     },
     "execution_count": 105,
     "metadata": {},
     "output_type": "execute_result"
    }
   ],
   "source": [
    "s5 = s1 - s2\n",
    "s5"
   ]
  },
  {
   "cell_type": "code",
   "execution_count": 107,
   "id": "3fecb82c",
   "metadata": {},
   "outputs": [
    {
     "data": {
      "text/plain": [
       "{6, 7, 8}"
      ]
     },
     "execution_count": 107,
     "metadata": {},
     "output_type": "execute_result"
    }
   ],
   "source": [
    "s6 = s2 - s1\n",
    "s6"
   ]
  },
  {
   "cell_type": "code",
   "execution_count": 108,
   "id": "ff880367",
   "metadata": {},
   "outputs": [
    {
     "data": {
      "text/plain": [
       "{1, 2, 3, 6, 7, 8}"
      ]
     },
     "execution_count": 108,
     "metadata": {},
     "output_type": "execute_result"
    }
   ],
   "source": [
    "s7 = s1 ^ s2\n",
    "s7"
   ]
  },
  {
   "cell_type": "code",
   "execution_count": 109,
   "id": "fdeac921",
   "metadata": {},
   "outputs": [
    {
     "data": {
      "text/plain": [
       "False"
      ]
     },
     "execution_count": 109,
     "metadata": {},
     "output_type": "execute_result"
    }
   ],
   "source": [
    "s1 < s2"
   ]
  },
  {
   "cell_type": "code",
   "execution_count": 110,
   "id": "07c3522d",
   "metadata": {},
   "outputs": [
    {
     "data": {
      "text/plain": [
       "False"
      ]
     },
     "execution_count": 110,
     "metadata": {},
     "output_type": "execute_result"
    }
   ],
   "source": [
    "s1 <= s2"
   ]
  },
  {
   "cell_type": "code",
   "execution_count": 111,
   "id": "c11140f2",
   "metadata": {},
   "outputs": [
    {
     "data": {
      "text/plain": [
       "False"
      ]
     },
     "execution_count": 111,
     "metadata": {},
     "output_type": "execute_result"
    }
   ],
   "source": [
    "s1 > s2"
   ]
  },
  {
   "cell_type": "code",
   "execution_count": 112,
   "id": "1266186e",
   "metadata": {},
   "outputs": [
    {
     "data": {
      "text/plain": [
       "False"
      ]
     },
     "execution_count": 112,
     "metadata": {},
     "output_type": "execute_result"
    }
   ],
   "source": [
    "s2 > s1"
   ]
  },
  {
   "cell_type": "code",
   "execution_count": 113,
   "id": "caca817f",
   "metadata": {},
   "outputs": [
    {
     "name": "stdout",
     "output_type": "stream",
     "text": [
      "True\n"
     ]
    }
   ],
   "source": [
    "a={1,2,3,4,5,6}\n",
    "b={1,2,3}\n",
    "print(a>b)"
   ]
  },
  {
   "cell_type": "code",
   "execution_count": 114,
   "id": "a9f2a57b",
   "metadata": {},
   "outputs": [
    {
     "name": "stdout",
     "output_type": "stream",
     "text": [
      "True\n"
     ]
    }
   ],
   "source": [
    "print(b<a)"
   ]
  },
  {
   "cell_type": "markdown",
   "id": "8315fc66",
   "metadata": {},
   "source": [
    "### Set methods"
   ]
  },
  {
   "cell_type": "code",
   "execution_count": 115,
   "id": "e8bb9829",
   "metadata": {},
   "outputs": [
    {
     "name": "stdout",
     "output_type": "stream",
     "text": [
      "{1, 2, 3}\n"
     ]
    }
   ],
   "source": [
    "# add() --> similar to append in list\n",
    "q1 ={1,2,3}\n",
    "print(q1)\n"
   ]
  },
  {
   "cell_type": "code",
   "execution_count": 116,
   "id": "441c19cd",
   "metadata": {},
   "outputs": [],
   "source": [
    "q1.add(4)"
   ]
  },
  {
   "cell_type": "code",
   "execution_count": 117,
   "id": "29aff299",
   "metadata": {},
   "outputs": [
    {
     "data": {
      "text/plain": [
       "{1, 2, 3, 4}"
      ]
     },
     "execution_count": 117,
     "metadata": {},
     "output_type": "execute_result"
    }
   ],
   "source": [
    "q1"
   ]
  },
  {
   "cell_type": "code",
   "execution_count": 118,
   "id": "e72d5e08",
   "metadata": {},
   "outputs": [],
   "source": [
    "# remove() --> used to remove the elemnt based on value"
   ]
  },
  {
   "cell_type": "code",
   "execution_count": 119,
   "id": "c4cdf9e8",
   "metadata": {},
   "outputs": [],
   "source": [
    "q1.remove(3)"
   ]
  },
  {
   "cell_type": "code",
   "execution_count": 120,
   "id": "32657aed",
   "metadata": {},
   "outputs": [
    {
     "data": {
      "text/plain": [
       "{1, 2, 4}"
      ]
     },
     "execution_count": 120,
     "metadata": {},
     "output_type": "execute_result"
    }
   ],
   "source": [
    "q1"
   ]
  },
  {
   "cell_type": "code",
   "execution_count": null,
   "id": "d7b799a4",
   "metadata": {},
   "outputs": [],
   "source": [
    "#update() ->similar to union() function"
   ]
  },
  {
   "cell_type": "code",
   "execution_count": 121,
   "id": "0738f52a",
   "metadata": {},
   "outputs": [],
   "source": [
    "q1={1,2,3}\n",
    "q2={4,5,6}"
   ]
  },
  {
   "cell_type": "code",
   "execution_count": 122,
   "id": "9a8096d3",
   "metadata": {},
   "outputs": [],
   "source": [
    "q1.update(q2)"
   ]
  },
  {
   "cell_type": "code",
   "execution_count": 123,
   "id": "8834271f",
   "metadata": {},
   "outputs": [
    {
     "name": "stdout",
     "output_type": "stream",
     "text": [
      "{1, 2, 3, 4, 5, 6}\n"
     ]
    }
   ],
   "source": [
    "print(q1)"
   ]
  },
  {
   "cell_type": "code",
   "execution_count": null,
   "id": "96ba69c1",
   "metadata": {},
   "outputs": [],
   "source": [
    "# differnce()"
   ]
  },
  {
   "cell_type": "code",
   "execution_count": 128,
   "id": "62c1c089",
   "metadata": {},
   "outputs": [
    {
     "data": {
      "text/plain": [
       "{1, 2}"
      ]
     },
     "execution_count": 128,
     "metadata": {},
     "output_type": "execute_result"
    }
   ],
   "source": [
    "q1={1,2,3}\n",
    "q2={3,4,5}\n",
    "q1.difference(q2)"
   ]
  },
  {
   "cell_type": "code",
   "execution_count": 129,
   "id": "64f9e5da",
   "metadata": {},
   "outputs": [
    {
     "data": {
      "text/plain": [
       "{1, 2, 3}"
      ]
     },
     "execution_count": 129,
     "metadata": {},
     "output_type": "execute_result"
    }
   ],
   "source": [
    "q1"
   ]
  },
  {
   "cell_type": "code",
   "execution_count": 130,
   "id": "06d5cc56",
   "metadata": {},
   "outputs": [
    {
     "data": {
      "text/plain": [
       "{3, 4, 5}"
      ]
     },
     "execution_count": 130,
     "metadata": {},
     "output_type": "execute_result"
    }
   ],
   "source": [
    "q2\n"
   ]
  },
  {
   "cell_type": "code",
   "execution_count": 131,
   "id": "25b6ccae",
   "metadata": {},
   "outputs": [],
   "source": [
    "# differnce_update()\n",
    "# here performs differnce blw q1 , q2 and result will be updated into q1"
   ]
  },
  {
   "cell_type": "code",
   "execution_count": 132,
   "id": "b060dd00",
   "metadata": {},
   "outputs": [],
   "source": [
    "q1.difference_update(q2)"
   ]
  },
  {
   "cell_type": "code",
   "execution_count": 133,
   "id": "ac203850",
   "metadata": {},
   "outputs": [
    {
     "data": {
      "text/plain": [
       "{1, 2}"
      ]
     },
     "execution_count": 133,
     "metadata": {},
     "output_type": "execute_result"
    }
   ],
   "source": [
    "q1"
   ]
  },
  {
   "cell_type": "code",
   "execution_count": 134,
   "id": "070a8e02",
   "metadata": {},
   "outputs": [
    {
     "data": {
      "text/plain": [
       "{3, 4, 5}"
      ]
     },
     "execution_count": 134,
     "metadata": {},
     "output_type": "execute_result"
    }
   ],
   "source": [
    "q2"
   ]
  },
  {
   "cell_type": "code",
   "execution_count": null,
   "id": "05b4cc6a",
   "metadata": {},
   "outputs": [],
   "source": [
    "#intersection()"
   ]
  },
  {
   "cell_type": "code",
   "execution_count": 136,
   "id": "34464ccb",
   "metadata": {},
   "outputs": [],
   "source": [
    "q1={1,2,3}\n",
    "q2={3,4,5}"
   ]
  },
  {
   "cell_type": "code",
   "execution_count": 137,
   "id": "1867097a",
   "metadata": {},
   "outputs": [
    {
     "data": {
      "text/plain": [
       "{3}"
      ]
     },
     "execution_count": 137,
     "metadata": {},
     "output_type": "execute_result"
    }
   ],
   "source": [
    "q1.intersection(q2)"
   ]
  },
  {
   "cell_type": "code",
   "execution_count": 138,
   "id": "fd9b06cd",
   "metadata": {},
   "outputs": [],
   "source": [
    "#intersection_update()\n",
    "#Find the common element and update into q1"
   ]
  },
  {
   "cell_type": "code",
   "execution_count": 139,
   "id": "332b271a",
   "metadata": {},
   "outputs": [],
   "source": [
    "q1.intersection_update(q2)"
   ]
  },
  {
   "cell_type": "code",
   "execution_count": 140,
   "id": "22238c53",
   "metadata": {},
   "outputs": [
    {
     "data": {
      "text/plain": [
       "{3}"
      ]
     },
     "execution_count": 140,
     "metadata": {},
     "output_type": "execute_result"
    }
   ],
   "source": [
    "q1"
   ]
  },
  {
   "cell_type": "code",
   "execution_count": 153,
   "id": "4ae2c519",
   "metadata": {},
   "outputs": [
    {
     "data": {
      "text/plain": [
       "{3, 4, 5}"
      ]
     },
     "execution_count": 153,
     "metadata": {},
     "output_type": "execute_result"
    }
   ],
   "source": [
    "q2"
   ]
  },
  {
   "cell_type": "code",
   "execution_count": null,
   "id": "41309c00",
   "metadata": {},
   "outputs": [],
   "source": []
  }
 ],
 "metadata": {
  "kernelspec": {
   "display_name": "Python 3 (ipykernel)",
   "language": "python",
   "name": "python3"
  },
  "language_info": {
   "codemirror_mode": {
    "name": "ipython",
    "version": 3
   },
   "file_extension": ".py",
   "mimetype": "text/x-python",
   "name": "python",
   "nbconvert_exporter": "python",
   "pygments_lexer": "ipython3",
   "version": "3.9.12"
  }
 },
 "nbformat": 4,
 "nbformat_minor": 5
}
