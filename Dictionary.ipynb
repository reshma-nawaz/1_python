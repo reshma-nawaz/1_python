{
 "cells": [
  {
   "cell_type": "markdown",
   "id": "c3b6dfdc",
   "metadata": {},
   "source": [
    "## Dictionary"
   ]
  },
  {
   "cell_type": "markdown",
   "id": "91b249f1",
   "metadata": {},
   "source": [
    "* It is an unordered collection of items. \n",
    "* While other compound data types have only value as an element, a dictionary has a key: value pair."
   ]
  },
  {
   "cell_type": "markdown",
   "id": "9cbd1511",
   "metadata": {},
   "source": [
    "### Dictionary Declaration"
   ]
  },
  {
   "cell_type": "code",
   "execution_count": 1,
   "id": "bb5be309",
   "metadata": {},
   "outputs": [],
   "source": [
    "#empty dictionary\n",
    "d1 = {}\n",
    "#create empty dictionary using dict()\n",
    "d2 = dict()"
   ]
  },
  {
   "cell_type": "markdown",
   "id": "77b2b9e3",
   "metadata": {},
   "source": [
    "### Dictionary Intitialization"
   ]
  },
  {
   "cell_type": "code",
   "execution_count": 2,
   "id": "fdc2acc2",
   "metadata": {},
   "outputs": [
    {
     "name": "stdout",
     "output_type": "stream",
     "text": [
      "{'Apple': 100, 'Banana': 50}\n",
      "{'Name': 'Reshma', 'Skills': ['C', 'Python', 'Java']}\n",
      "{'Biryani': 350, 'ButterNaan': 50}\n"
     ]
    }
   ],
   "source": [
    "#dictionary with integer keys\n",
    "d1 = {'Apple': 100, 'Banana': 50}\n",
    "print(d1)\n",
    "#dictionary with mixed keys\n",
    "d2 = {'Name': 'Reshma', \"Skills\": ['C', 'Python','Java']}\n",
    "print(d2)\n",
    "#create a dict with list of tuples\n",
    "d3 = dict([('Biryani', 350), ('ButterNaan', 50)])   \n",
    "print(d3)"
   ]
  },
  {
   "cell_type": "markdown",
   "id": "6aa919ed",
   "metadata": {},
   "source": [
    "### Dict Accessing"
   ]
  },
  {
   "cell_type": "code",
   "execution_count": 3,
   "id": "1f8b02dc",
   "metadata": {},
   "outputs": [],
   "source": [
    "##Direct Accessing"
   ]
  },
  {
   "cell_type": "code",
   "execution_count": 4,
   "id": "1e080c04",
   "metadata": {},
   "outputs": [
    {
     "name": "stdout",
     "output_type": "stream",
     "text": [
      "100\n"
     ]
    }
   ],
   "source": [
    "#Get item\n",
    "print(d1[\"Apple\"])"
   ]
  },
  {
   "cell_type": "code",
   "execution_count": 5,
   "id": "e53e2f31",
   "metadata": {},
   "outputs": [
    {
     "ename": "KeyError",
     "evalue": "'Mango'",
     "output_type": "error",
     "traceback": [
      "\u001b[1;31m---------------------------------------------------------------------------\u001b[0m",
      "\u001b[1;31mKeyError\u001b[0m                                  Traceback (most recent call last)",
      "Input \u001b[1;32mIn [5]\u001b[0m, in \u001b[0;36m<cell line: 2>\u001b[1;34m()\u001b[0m\n\u001b[0;32m      1\u001b[0m \u001b[38;5;66;03m# if key is not present it will keyError\u001b[39;00m\n\u001b[1;32m----> 2\u001b[0m \u001b[38;5;28mprint\u001b[39m(\u001b[43md1\u001b[49m\u001b[43m[\u001b[49m\u001b[38;5;124;43m\"\u001b[39;49m\u001b[38;5;124;43mMango\u001b[39;49m\u001b[38;5;124;43m\"\u001b[39;49m\u001b[43m]\u001b[49m)\n",
      "\u001b[1;31mKeyError\u001b[0m: 'Mango'"
     ]
    }
   ],
   "source": [
    "# if key is not present it will keyError\n",
    "print(d1[\"Mango\"])"
   ]
  },
  {
   "cell_type": "code",
   "execution_count": 6,
   "id": "c7a86b66",
   "metadata": {},
   "outputs": [
    {
     "name": "stdout",
     "output_type": "stream",
     "text": [
      "Reshma\n"
     ]
    }
   ],
   "source": [
    "#another way of accessing key\n",
    "print(d2.get('Name'))"
   ]
  },
  {
   "cell_type": "code",
   "execution_count": 7,
   "id": "d624b241",
   "metadata": {},
   "outputs": [
    {
     "name": "stdout",
     "output_type": "stream",
     "text": [
      "None\n"
     ]
    }
   ],
   "source": [
    "#if key is not present it will give None using get method\n",
    "print(d2.get('Age'))"
   ]
  },
  {
   "cell_type": "markdown",
   "id": "4b50a967",
   "metadata": {},
   "source": [
    "### Dict add or Modify Elements"
   ]
  },
  {
   "cell_type": "code",
   "execution_count": 8,
   "id": "0522281e",
   "metadata": {},
   "outputs": [
    {
     "name": "stdout",
     "output_type": "stream",
     "text": [
      "{'Apple': 200, 'Banana': 50}\n"
     ]
    }
   ],
   "source": [
    "#update price \n",
    "d1['Apple'] = 200\n",
    "print(d1)"
   ]
  },
  {
   "cell_type": "code",
   "execution_count": 9,
   "id": "d56a530a",
   "metadata": {},
   "outputs": [
    {
     "data": {
      "text/plain": [
       "{'Apple': 200, 'Banana': 50, 'Grapes': 100}"
      ]
     },
     "execution_count": 9,
     "metadata": {},
     "output_type": "execute_result"
    }
   ],
   "source": [
    "#add new key\n",
    "d1['Grapes'] = 100\n",
    "d1"
   ]
  },
  {
   "cell_type": "markdown",
   "id": "4e1118d4",
   "metadata": {},
   "source": [
    "## Dict delete or remove Elements"
   ]
  },
  {
   "cell_type": "code",
   "execution_count": 11,
   "id": "73b7ca05",
   "metadata": {},
   "outputs": [
    {
     "name": "stdout",
     "output_type": "stream",
     "text": [
      "200\n"
     ]
    },
    {
     "data": {
      "text/plain": [
       "{'Banana': 50, 'Grapes': 100}"
      ]
     },
     "execution_count": 11,
     "metadata": {},
     "output_type": "execute_result"
    }
   ],
   "source": [
    "#remove a particular item\n",
    "print(d1.pop('Apple'))\n",
    "d1"
   ]
  },
  {
   "cell_type": "code",
   "execution_count": 12,
   "id": "3824db25",
   "metadata": {},
   "outputs": [
    {
     "data": {
      "text/plain": [
       "{'Banana': 50}"
      ]
     },
     "execution_count": 12,
     "metadata": {},
     "output_type": "execute_result"
    }
   ],
   "source": [
    "#remove an arbitarty key\n",
    "d1.popitem()\n",
    "d1"
   ]
  },
  {
   "cell_type": "code",
   "execution_count": 13,
   "id": "4505a003",
   "metadata": {},
   "outputs": [
    {
     "data": {
      "text/plain": [
       "{}"
      ]
     },
     "execution_count": 13,
     "metadata": {},
     "output_type": "execute_result"
    }
   ],
   "source": [
    "d1.clear()\n",
    "d1"
   ]
  },
  {
   "cell_type": "markdown",
   "id": "980fd361",
   "metadata": {},
   "source": [
    "### Dictionary Methods"
   ]
  },
  {
   "cell_type": "code",
   "execution_count": 15,
   "id": "da3c10f7",
   "metadata": {},
   "outputs": [
    {
     "data": {
      "text/plain": [
       "dict_items([('shirt', 5000), ('t-shirt', 4500), ('watch', 10000), ('trousers', 500)])"
      ]
     },
     "execution_count": 15,
     "metadata": {},
     "output_type": "execute_result"
    }
   ],
   "source": [
    "cart = {'shirt': 5000, 't-shirt': 4500, 'watch': 10000, 'trousers': 500}\n",
    "cart.items()"
   ]
  },
  {
   "cell_type": "code",
   "execution_count": 16,
   "id": "84d5398e",
   "metadata": {},
   "outputs": [
    {
     "data": {
      "text/plain": [
       "dict_keys(['shirt', 't-shirt', 'watch', 'trousers'])"
      ]
     },
     "execution_count": 16,
     "metadata": {},
     "output_type": "execute_result"
    }
   ],
   "source": [
    "cart.keys()"
   ]
  },
  {
   "cell_type": "code",
   "execution_count": 17,
   "id": "69119aef",
   "metadata": {},
   "outputs": [
    {
     "data": {
      "text/plain": [
       "dict_values([5000, 4500, 10000, 500])"
      ]
     },
     "execution_count": 17,
     "metadata": {},
     "output_type": "execute_result"
    }
   ],
   "source": [
    "cart.values()"
   ]
  },
  {
   "cell_type": "code",
   "execution_count": 18,
   "id": "0b2ca722",
   "metadata": {},
   "outputs": [
    {
     "name": "stdout",
     "output_type": "stream",
     "text": [
      "shirt -> Rs. 5000\n",
      "t-shirt -> Rs. 4500\n",
      "watch -> Rs. 10000\n",
      "trousers -> Rs. 500\n"
     ]
    }
   ],
   "source": [
    "for item, price in cart.items():\n",
    "    print(item,\"-> Rs.\",price)"
   ]
  },
  {
   "cell_type": "code",
   "execution_count": null,
   "id": "a066d0ba",
   "metadata": {},
   "outputs": [],
   "source": []
  }
 ],
 "metadata": {
  "kernelspec": {
   "display_name": "Python 3 (ipykernel)",
   "language": "python",
   "name": "python3"
  },
  "language_info": {
   "codemirror_mode": {
    "name": "ipython",
    "version": 3
   },
   "file_extension": ".py",
   "mimetype": "text/x-python",
   "name": "python",
   "nbconvert_exporter": "python",
   "pygments_lexer": "ipython3",
   "version": "3.9.12"
  }
 },
 "nbformat": 4,
 "nbformat_minor": 5
}
